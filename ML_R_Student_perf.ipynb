{
 "cells": [
  {
   "cell_type": "code",
   "execution_count": 1,
   "metadata": {},
   "outputs": [],
   "source": [
    "import pandas as pd\n",
    "import matplotlib.pyplot as plt\n",
    "import numpy as np\n",
    "from scipy.stats import skew,skewtest,norm\n",
    "import scipy.stats as sta\n",
    "from scipy.stats import boxcox\n",
    "from wordcloud import WordCloud,STOPWORDS,ImageColorGenerator\n",
    "from wordcloud import WordCloud\n",
    "from mpl_toolkits.mplot3d import Axes3D\n",
    "import seaborn as sns"
   ]
  },
  {
   "cell_type": "code",
   "execution_count": 2,
   "metadata": {},
   "outputs": [
    {
     "data": {
      "text/html": [
       "<div>\n",
       "<style scoped>\n",
       "    .dataframe tbody tr th:only-of-type {\n",
       "        vertical-align: middle;\n",
       "    }\n",
       "\n",
       "    .dataframe tbody tr th {\n",
       "        vertical-align: top;\n",
       "    }\n",
       "\n",
       "    .dataframe thead th {\n",
       "        text-align: right;\n",
       "    }\n",
       "</style>\n",
       "<table border=\"1\" class=\"dataframe\">\n",
       "  <thead>\n",
       "    <tr style=\"text-align: right;\">\n",
       "      <th></th>\n",
       "      <th>Student_ID</th>\n",
       "      <th>Region</th>\n",
       "      <th>Gender</th>\n",
       "      <th>Enrollment_Type</th>\n",
       "      <th>Subject_Group</th>\n",
       "      <th>SSC_I_Marks</th>\n",
       "      <th>SSC_II_Marks</th>\n",
       "      <th>HSSC_I_Marks</th>\n",
       "      <th>Attendance_Rate</th>\n",
       "      <th>Parent_Education_Level</th>\n",
       "      <th>Parent_Income</th>\n",
       "      <th>Study_Hours</th>\n",
       "      <th>Extra_Tuition</th>\n",
       "      <th>School_Type</th>\n",
       "      <th>Previous_Failures</th>\n",
       "      <th>Co_Curricular_Activities</th>\n",
       "      <th>Exam_Attempts</th>\n",
       "      <th>HSSC_II_Marks</th>\n",
       "      <th>HSSC_II_Grade</th>\n",
       "    </tr>\n",
       "  </thead>\n",
       "  <tbody>\n",
       "    <tr>\n",
       "      <th>0</th>\n",
       "      <td>1</td>\n",
       "      <td>Mohmand</td>\n",
       "      <td>Male</td>\n",
       "      <td>Regular</td>\n",
       "      <td>Science</td>\n",
       "      <td>682</td>\n",
       "      <td>772</td>\n",
       "      <td>390</td>\n",
       "      <td>59.84</td>\n",
       "      <td>College</td>\n",
       "      <td>Medium</td>\n",
       "      <td>3.27</td>\n",
       "      <td>No</td>\n",
       "      <td>Private</td>\n",
       "      <td>1</td>\n",
       "      <td>No</td>\n",
       "      <td>2</td>\n",
       "      <td>814</td>\n",
       "      <td>A-ONE</td>\n",
       "    </tr>\n",
       "    <tr>\n",
       "      <th>1</th>\n",
       "      <td>2</td>\n",
       "      <td>Mohmand</td>\n",
       "      <td>Male</td>\n",
       "      <td>Regular</td>\n",
       "      <td>Science</td>\n",
       "      <td>535</td>\n",
       "      <td>532</td>\n",
       "      <td>800</td>\n",
       "      <td>76.71</td>\n",
       "      <td>Graduate</td>\n",
       "      <td>Low</td>\n",
       "      <td>2.32</td>\n",
       "      <td>Yes</td>\n",
       "      <td>Public</td>\n",
       "      <td>2</td>\n",
       "      <td>Yes</td>\n",
       "      <td>1</td>\n",
       "      <td>504</td>\n",
       "      <td>C</td>\n",
       "    </tr>\n",
       "    <tr>\n",
       "      <th>2</th>\n",
       "      <td>3</td>\n",
       "      <td>Mohmand</td>\n",
       "      <td>Female</td>\n",
       "      <td>Private</td>\n",
       "      <td>Arts</td>\n",
       "      <td>697</td>\n",
       "      <td>692</td>\n",
       "      <td>331</td>\n",
       "      <td>81.94</td>\n",
       "      <td>College</td>\n",
       "      <td>Low</td>\n",
       "      <td>4.64</td>\n",
       "      <td>Yes</td>\n",
       "      <td>Private</td>\n",
       "      <td>1</td>\n",
       "      <td>No</td>\n",
       "      <td>2</td>\n",
       "      <td>572</td>\n",
       "      <td>C</td>\n",
       "    </tr>\n",
       "    <tr>\n",
       "      <th>3</th>\n",
       "      <td>4</td>\n",
       "      <td>Khyber</td>\n",
       "      <td>Female</td>\n",
       "      <td>Regular</td>\n",
       "      <td>Arts</td>\n",
       "      <td>705</td>\n",
       "      <td>584</td>\n",
       "      <td>603</td>\n",
       "      <td>96.10</td>\n",
       "      <td>College</td>\n",
       "      <td>Medium</td>\n",
       "      <td>3.83</td>\n",
       "      <td>No</td>\n",
       "      <td>Public</td>\n",
       "      <td>0</td>\n",
       "      <td>Yes</td>\n",
       "      <td>2</td>\n",
       "      <td>543</td>\n",
       "      <td>C</td>\n",
       "    </tr>\n",
       "    <tr>\n",
       "      <th>4</th>\n",
       "      <td>5</td>\n",
       "      <td>Chitral</td>\n",
       "      <td>Female</td>\n",
       "      <td>Regular</td>\n",
       "      <td>Arts</td>\n",
       "      <td>308</td>\n",
       "      <td>737</td>\n",
       "      <td>812</td>\n",
       "      <td>95.75</td>\n",
       "      <td>High School</td>\n",
       "      <td>Medium</td>\n",
       "      <td>4.47</td>\n",
       "      <td>No</td>\n",
       "      <td>Public</td>\n",
       "      <td>2</td>\n",
       "      <td>No</td>\n",
       "      <td>1</td>\n",
       "      <td>608</td>\n",
       "      <td>B</td>\n",
       "    </tr>\n",
       "  </tbody>\n",
       "</table>\n",
       "</div>"
      ],
      "text/plain": [
       "   Student_ID   Region  Gender Enrollment_Type Subject_Group  SSC_I_Marks  \\\n",
       "0           1  Mohmand    Male         Regular       Science          682   \n",
       "1           2  Mohmand    Male         Regular       Science          535   \n",
       "2           3  Mohmand  Female         Private          Arts          697   \n",
       "3           4   Khyber  Female         Regular          Arts          705   \n",
       "4           5  Chitral  Female         Regular          Arts          308   \n",
       "\n",
       "   SSC_II_Marks  HSSC_I_Marks  Attendance_Rate Parent_Education_Level  \\\n",
       "0           772           390            59.84                College   \n",
       "1           532           800            76.71               Graduate   \n",
       "2           692           331            81.94                College   \n",
       "3           584           603            96.10                College   \n",
       "4           737           812            95.75            High School   \n",
       "\n",
       "  Parent_Income  Study_Hours Extra_Tuition School_Type  Previous_Failures  \\\n",
       "0        Medium         3.27            No     Private                  1   \n",
       "1           Low         2.32           Yes      Public                  2   \n",
       "2           Low         4.64           Yes     Private                  1   \n",
       "3        Medium         3.83            No      Public                  0   \n",
       "4        Medium         4.47            No      Public                  2   \n",
       "\n",
       "  Co_Curricular_Activities  Exam_Attempts  HSSC_II_Marks HSSC_II_Grade  \n",
       "0                       No              2            814         A-ONE  \n",
       "1                      Yes              1            504             C  \n",
       "2                       No              2            572             C  \n",
       "3                      Yes              2            543             C  \n",
       "4                       No              1            608             B  "
      ]
     },
     "execution_count": 2,
     "metadata": {},
     "output_type": "execute_result"
    }
   ],
   "source": [
    "df = pd.read_csv('student_performance_dataset_90k.csv')\n",
    "df.head()"
   ]
  },
  {
   "cell_type": "code",
   "execution_count": 3,
   "metadata": {},
   "outputs": [
    {
     "data": {
      "text/plain": [
       "(90000, 19)"
      ]
     },
     "execution_count": 3,
     "metadata": {},
     "output_type": "execute_result"
    }
   ],
   "source": [
    "df.shape"
   ]
  },
  {
   "cell_type": "code",
   "execution_count": 4,
   "metadata": {},
   "outputs": [
    {
     "data": {
      "text/plain": [
       "Student_ID\n",
       "1        1\n",
       "59998    1\n",
       "60006    1\n",
       "60005    1\n",
       "60004    1\n",
       "        ..\n",
       "29999    1\n",
       "29998    1\n",
       "29997    1\n",
       "29996    1\n",
       "90000    1\n",
       "Name: count, Length: 90000, dtype: int64"
      ]
     },
     "execution_count": 4,
     "metadata": {},
     "output_type": "execute_result"
    }
   ],
   "source": [
    "df['Student_ID'].value_counts()"
   ]
  },
  {
   "cell_type": "code",
   "execution_count": 5,
   "metadata": {},
   "outputs": [],
   "source": [
    "df = df.drop(['Student_ID'],axis=1)"
   ]
  },
  {
   "cell_type": "code",
   "execution_count": 6,
   "metadata": {},
   "outputs": [
    {
     "data": {
      "text/plain": [
       "Region\n",
       "Mohmand      18122\n",
       "Khyber       18032\n",
       "Peshawar     18007\n",
       "Charsadda    17964\n",
       "Chitral      17875\n",
       "Name: count, dtype: int64"
      ]
     },
     "execution_count": 6,
     "metadata": {},
     "output_type": "execute_result"
    }
   ],
   "source": [
    "df['Region'].value_counts()"
   ]
  },
  {
   "cell_type": "code",
   "execution_count": 7,
   "metadata": {},
   "outputs": [
    {
     "data": {
      "text/plain": [
       "Gender\n",
       "Male      45134\n",
       "Female    44866\n",
       "Name: count, dtype: int64"
      ]
     },
     "execution_count": 7,
     "metadata": {},
     "output_type": "execute_result"
    }
   ],
   "source": [
    "df['Gender'].value_counts()"
   ]
  },
  {
   "cell_type": "code",
   "execution_count": 8,
   "metadata": {},
   "outputs": [
    {
     "data": {
      "text/plain": [
       "Enrollment_Type\n",
       "Private    45016\n",
       "Regular    44984\n",
       "Name: count, dtype: int64"
      ]
     },
     "execution_count": 8,
     "metadata": {},
     "output_type": "execute_result"
    }
   ],
   "source": [
    "df['Enrollment_Type'].value_counts()"
   ]
  },
  {
   "cell_type": "code",
   "execution_count": 9,
   "metadata": {},
   "outputs": [
    {
     "data": {
      "text/plain": [
       "Subject_Group\n",
       "Science    45026\n",
       "Arts       44974\n",
       "Name: count, dtype: int64"
      ]
     },
     "execution_count": 9,
     "metadata": {},
     "output_type": "execute_result"
    }
   ],
   "source": [
    "df['Subject_Group'].value_counts()"
   ]
  },
  {
   "cell_type": "code",
   "execution_count": 10,
   "metadata": {},
   "outputs": [
    {
     "data": {
      "text/plain": [
       "Parent_Education_Level\n",
       "High School    30145\n",
       "College        29972\n",
       "Graduate       29883\n",
       "Name: count, dtype: int64"
      ]
     },
     "execution_count": 10,
     "metadata": {},
     "output_type": "execute_result"
    }
   ],
   "source": [
    "df['Parent_Education_Level'].value_counts()"
   ]
  },
  {
   "cell_type": "code",
   "execution_count": 11,
   "metadata": {},
   "outputs": [
    {
     "data": {
      "text/plain": [
       "Parent_Income\n",
       "High      30449\n",
       "Low       29966\n",
       "Medium    29585\n",
       "Name: count, dtype: int64"
      ]
     },
     "execution_count": 11,
     "metadata": {},
     "output_type": "execute_result"
    }
   ],
   "source": [
    "df['Parent_Income'].value_counts()"
   ]
  },
  {
   "cell_type": "code",
   "execution_count": 12,
   "metadata": {},
   "outputs": [
    {
     "data": {
      "text/plain": [
       "Extra_Tuition\n",
       "No     45127\n",
       "Yes    44873\n",
       "Name: count, dtype: int64"
      ]
     },
     "execution_count": 12,
     "metadata": {},
     "output_type": "execute_result"
    }
   ],
   "source": [
    "df['Extra_Tuition'].value_counts()"
   ]
  },
  {
   "cell_type": "code",
   "execution_count": 13,
   "metadata": {},
   "outputs": [
    {
     "data": {
      "text/plain": [
       "School_Type\n",
       "Public     45039\n",
       "Private    44961\n",
       "Name: count, dtype: int64"
      ]
     },
     "execution_count": 13,
     "metadata": {},
     "output_type": "execute_result"
    }
   ],
   "source": [
    "df['School_Type'].value_counts()"
   ]
  },
  {
   "cell_type": "code",
   "execution_count": 14,
   "metadata": {},
   "outputs": [
    {
     "data": {
      "text/plain": [
       "Co_Curricular_Activities\n",
       "No     45071\n",
       "Yes    44929\n",
       "Name: count, dtype: int64"
      ]
     },
     "execution_count": 14,
     "metadata": {},
     "output_type": "execute_result"
    }
   ],
   "source": [
    "df['Co_Curricular_Activities'].value_counts()"
   ]
  },
  {
   "cell_type": "code",
   "execution_count": 15,
   "metadata": {},
   "outputs": [
    {
     "data": {
      "text/plain": [
       "HSSC_II_Grade\n",
       "B        16584\n",
       "Fail     16462\n",
       "A        16355\n",
       "C        16282\n",
       "D        16172\n",
       "A-ONE     8145\n",
       "Name: count, dtype: int64"
      ]
     },
     "execution_count": 15,
     "metadata": {},
     "output_type": "execute_result"
    }
   ],
   "source": [
    "df['HSSC_II_Grade'].value_counts()"
   ]
  },
  {
   "cell_type": "code",
   "execution_count": 16,
   "metadata": {},
   "outputs": [
    {
     "data": {
      "text/html": [
       "<div>\n",
       "<style scoped>\n",
       "    .dataframe tbody tr th:only-of-type {\n",
       "        vertical-align: middle;\n",
       "    }\n",
       "\n",
       "    .dataframe tbody tr th {\n",
       "        vertical-align: top;\n",
       "    }\n",
       "\n",
       "    .dataframe thead th {\n",
       "        text-align: right;\n",
       "    }\n",
       "</style>\n",
       "<table border=\"1\" class=\"dataframe\">\n",
       "  <thead>\n",
       "    <tr style=\"text-align: right;\">\n",
       "      <th></th>\n",
       "      <th>Region</th>\n",
       "      <th>Gender</th>\n",
       "      <th>Enrollment_Type</th>\n",
       "      <th>Subject_Group</th>\n",
       "      <th>SSC_I_Marks</th>\n",
       "      <th>SSC_II_Marks</th>\n",
       "      <th>HSSC_I_Marks</th>\n",
       "      <th>Attendance_Rate</th>\n",
       "      <th>Parent_Education_Level</th>\n",
       "      <th>Parent_Income</th>\n",
       "      <th>Study_Hours</th>\n",
       "      <th>Extra_Tuition</th>\n",
       "      <th>School_Type</th>\n",
       "      <th>Previous_Failures</th>\n",
       "      <th>Co_Curricular_Activities</th>\n",
       "      <th>Exam_Attempts</th>\n",
       "      <th>HSSC_II_Marks</th>\n",
       "      <th>HSSC_II_Grade</th>\n",
       "    </tr>\n",
       "  </thead>\n",
       "  <tbody>\n",
       "    <tr>\n",
       "      <th>0</th>\n",
       "      <td>3</td>\n",
       "      <td>1</td>\n",
       "      <td>1</td>\n",
       "      <td>1</td>\n",
       "      <td>682</td>\n",
       "      <td>772</td>\n",
       "      <td>390</td>\n",
       "      <td>59.84</td>\n",
       "      <td>0</td>\n",
       "      <td>2</td>\n",
       "      <td>3.27</td>\n",
       "      <td>0</td>\n",
       "      <td>0</td>\n",
       "      <td>1</td>\n",
       "      <td>0</td>\n",
       "      <td>2</td>\n",
       "      <td>814</td>\n",
       "      <td>1</td>\n",
       "    </tr>\n",
       "    <tr>\n",
       "      <th>1</th>\n",
       "      <td>3</td>\n",
       "      <td>1</td>\n",
       "      <td>1</td>\n",
       "      <td>1</td>\n",
       "      <td>535</td>\n",
       "      <td>532</td>\n",
       "      <td>800</td>\n",
       "      <td>76.71</td>\n",
       "      <td>1</td>\n",
       "      <td>1</td>\n",
       "      <td>2.32</td>\n",
       "      <td>1</td>\n",
       "      <td>1</td>\n",
       "      <td>2</td>\n",
       "      <td>1</td>\n",
       "      <td>1</td>\n",
       "      <td>504</td>\n",
       "      <td>3</td>\n",
       "    </tr>\n",
       "    <tr>\n",
       "      <th>2</th>\n",
       "      <td>3</td>\n",
       "      <td>0</td>\n",
       "      <td>0</td>\n",
       "      <td>0</td>\n",
       "      <td>697</td>\n",
       "      <td>692</td>\n",
       "      <td>331</td>\n",
       "      <td>81.94</td>\n",
       "      <td>0</td>\n",
       "      <td>1</td>\n",
       "      <td>4.64</td>\n",
       "      <td>1</td>\n",
       "      <td>0</td>\n",
       "      <td>1</td>\n",
       "      <td>0</td>\n",
       "      <td>2</td>\n",
       "      <td>572</td>\n",
       "      <td>3</td>\n",
       "    </tr>\n",
       "    <tr>\n",
       "      <th>3</th>\n",
       "      <td>2</td>\n",
       "      <td>0</td>\n",
       "      <td>1</td>\n",
       "      <td>0</td>\n",
       "      <td>705</td>\n",
       "      <td>584</td>\n",
       "      <td>603</td>\n",
       "      <td>96.10</td>\n",
       "      <td>0</td>\n",
       "      <td>2</td>\n",
       "      <td>3.83</td>\n",
       "      <td>0</td>\n",
       "      <td>1</td>\n",
       "      <td>0</td>\n",
       "      <td>1</td>\n",
       "      <td>2</td>\n",
       "      <td>543</td>\n",
       "      <td>3</td>\n",
       "    </tr>\n",
       "    <tr>\n",
       "      <th>4</th>\n",
       "      <td>1</td>\n",
       "      <td>0</td>\n",
       "      <td>1</td>\n",
       "      <td>0</td>\n",
       "      <td>308</td>\n",
       "      <td>737</td>\n",
       "      <td>812</td>\n",
       "      <td>95.75</td>\n",
       "      <td>2</td>\n",
       "      <td>2</td>\n",
       "      <td>4.47</td>\n",
       "      <td>0</td>\n",
       "      <td>1</td>\n",
       "      <td>2</td>\n",
       "      <td>0</td>\n",
       "      <td>1</td>\n",
       "      <td>608</td>\n",
       "      <td>2</td>\n",
       "    </tr>\n",
       "  </tbody>\n",
       "</table>\n",
       "</div>"
      ],
      "text/plain": [
       "   Region  Gender  Enrollment_Type  Subject_Group  SSC_I_Marks  SSC_II_Marks  \\\n",
       "0       3       1                1              1          682           772   \n",
       "1       3       1                1              1          535           532   \n",
       "2       3       0                0              0          697           692   \n",
       "3       2       0                1              0          705           584   \n",
       "4       1       0                1              0          308           737   \n",
       "\n",
       "   HSSC_I_Marks  Attendance_Rate  Parent_Education_Level  Parent_Income  \\\n",
       "0           390            59.84                       0              2   \n",
       "1           800            76.71                       1              1   \n",
       "2           331            81.94                       0              1   \n",
       "3           603            96.10                       0              2   \n",
       "4           812            95.75                       2              2   \n",
       "\n",
       "   Study_Hours  Extra_Tuition  School_Type  Previous_Failures  \\\n",
       "0         3.27              0            0                  1   \n",
       "1         2.32              1            1                  2   \n",
       "2         4.64              1            0                  1   \n",
       "3         3.83              0            1                  0   \n",
       "4         4.47              0            1                  2   \n",
       "\n",
       "   Co_Curricular_Activities  Exam_Attempts  HSSC_II_Marks  HSSC_II_Grade  \n",
       "0                         0              2            814              1  \n",
       "1                         1              1            504              3  \n",
       "2                         0              2            572              3  \n",
       "3                         1              2            543              3  \n",
       "4                         0              1            608              2  "
      ]
     },
     "execution_count": 16,
     "metadata": {},
     "output_type": "execute_result"
    }
   ],
   "source": [
    "from sklearn.preprocessing import LabelEncoder\n",
    "le = LabelEncoder()\n",
    "\n",
    "cat = df.select_dtypes(include='object')\n",
    "\n",
    "for i in cat:\n",
    "    df[i] = le.fit_transform(df[i])\n",
    "df.head()"
   ]
  },
  {
   "cell_type": "code",
   "execution_count": 17,
   "metadata": {},
   "outputs": [
    {
     "data": {
      "text/plain": [
       "HSSC_II_Grade\n",
       "2    16584\n",
       "5    16462\n",
       "0    16355\n",
       "3    16282\n",
       "4    16172\n",
       "1     8145\n",
       "Name: count, dtype: int64"
      ]
     },
     "execution_count": 17,
     "metadata": {},
     "output_type": "execute_result"
    }
   ],
   "source": [
    "df['HSSC_II_Grade'].value_counts()"
   ]
  },
  {
   "cell_type": "code",
   "execution_count": 18,
   "metadata": {},
   "outputs": [],
   "source": [
    "from scipy.stats import zscore\n",
    "z = np.abs(zscore(df))\n",
    "df1 = df[(z<3).all(axis=1)]\n",
    "df = df1.copy()"
   ]
  },
  {
   "cell_type": "code",
   "execution_count": 19,
   "metadata": {},
   "outputs": [
    {
     "data": {
      "text/plain": [
       "Region                     -0.005528\n",
       "Gender                     -0.005956\n",
       "Enrollment_Type             0.000711\n",
       "Subject_Group              -0.001156\n",
       "SSC_I_Marks                -0.002929\n",
       "SSC_II_Marks                0.003293\n",
       "HSSC_I_Marks               -0.002076\n",
       "Attendance_Rate             0.012604\n",
       "Parent_Education_Level     -0.003535\n",
       "Parent_Income               0.017642\n",
       "Study_Hours                 0.002989\n",
       "Extra_Tuition               0.005645\n",
       "School_Type                -0.001733\n",
       "Previous_Failures           0.002777\n",
       "Co_Curricular_Activities    0.003156\n",
       "Exam_Attempts              -0.004222\n",
       "HSSC_II_Marks              -0.005614\n",
       "HSSC_II_Grade              -0.173351\n",
       "dtype: float64"
      ]
     },
     "execution_count": 19,
     "metadata": {},
     "output_type": "execute_result"
    }
   ],
   "source": [
    "df.skew()"
   ]
  },
  {
   "cell_type": "code",
   "execution_count": 20,
   "metadata": {},
   "outputs": [
    {
     "data": {
      "text/plain": [
       "HSSC_II_Marks               1.000000\n",
       "HSSC_II_Grade               0.948918\n",
       "Parent_Income               0.008244\n",
       "Extra_Tuition               0.005513\n",
       "Enrollment_Type             0.005264\n",
       "Parent_Education_Level      0.004781\n",
       "Exam_Attempts               0.003446\n",
       "Subject_Group               0.003279\n",
       "Co_Curricular_Activities    0.002537\n",
       "Attendance_Rate             0.002147\n",
       "Study_Hours                 0.001777\n",
       "Gender                      0.001654\n",
       "SSC_II_Marks                0.001364\n",
       "School_Type                 0.001246\n",
       "SSC_I_Marks                 0.001143\n",
       "HSSC_I_Marks                0.001138\n",
       "Region                      0.000804\n",
       "Previous_Failures           0.000167\n",
       "Name: HSSC_II_Marks, dtype: float64"
      ]
     },
     "execution_count": 20,
     "metadata": {},
     "output_type": "execute_result"
    }
   ],
   "source": [
    "df.corr(numeric_only=True).abs()['HSSC_II_Marks'].sort_values(ascending=False)"
   ]
  },
  {
   "cell_type": "code",
   "execution_count": 21,
   "metadata": {},
   "outputs": [],
   "source": [
    "X = df.drop(['HSSC_II_Marks'],axis=1)\n",
    "Y = df['HSSC_II_Marks']"
   ]
  },
  {
   "cell_type": "code",
   "execution_count": 22,
   "metadata": {},
   "outputs": [],
   "source": [
    "from sklearn.model_selection import train_test_split\n",
    "x_train,x_test,y_train,y_test = train_test_split(X,Y,test_size=0.2,random_state=42)"
   ]
  },
  {
   "cell_type": "code",
   "execution_count": 23,
   "metadata": {},
   "outputs": [],
   "source": [
    "from sklearn.preprocessing import StandardScaler\n",
    "sc = StandardScaler()\n",
    "X = sc.fit_transform(X)"
   ]
  },
  {
   "cell_type": "code",
   "execution_count": 24,
   "metadata": {},
   "outputs": [],
   "source": [
    "from sklearn.ensemble import RandomForestRegressor\n",
    "from sklearn.ensemble import AdaBoostRegressor\n",
    "from sklearn.linear_model import LinearRegression, Ridge,Lasso\n",
    "from sklearn.neighbors import KNeighborsRegressor\n",
    "from sklearn.tree import DecisionTreeRegressor\n",
    "from sklearn.metrics import r2_score, mean_absolute_error, mean_squared_error"
   ]
  },
  {
   "cell_type": "code",
   "execution_count": 25,
   "metadata": {},
   "outputs": [],
   "source": [
    "def evaluate_model(true,predicted):\n",
    "    mae = mean_absolute_error(true,predicted)\n",
    "    mse = mean_squared_error(true,predicted)\n",
    "    r2score = r2_score(true,predicted)\n",
    "    rmse = np.sqrt(mean_squared_error(true,predicted))\n",
    "    return mae,mse,r2score,rmse"
   ]
  },
  {
   "cell_type": "code",
   "execution_count": 26,
   "metadata": {},
   "outputs": [],
   "source": [
    "models = {\n",
    "    \"Linear Regression\":LinearRegression(),\n",
    "    \"Lasso\":Lasso(),\n",
    "    \"Ridge\":Ridge(),\n",
    "    \"k-Neighbors\":KNeighborsRegressor(),\n",
    "    \"Decision Tree\":DecisionTreeRegressor(),\n",
    "    \"Random Forest\":RandomForestRegressor(),\n",
    "    \"Adaboost Regressor\":AdaBoostRegressor()\n",
    "}"
   ]
  },
  {
   "cell_type": "code",
   "execution_count": 27,
   "metadata": {},
   "outputs": [
    {
     "name": "stdout",
     "output_type": "stream",
     "text": [
      "Linear Regression\n",
      "Model Performance on Trainig Data\n",
      "-Root Mean Squared Error:50.2097\n",
      "-Mean Absolute Error:39.4897\n",
      "-R2 Score:0.9001\n",
      "Mean Squared Error:2521.0162\n",
      "-----------------------------\n",
      "Model Performance on Testing Data\n",
      "-Root Mean Squared Error:49.6307\n",
      "-Mean Absolute Error:38.9186\n",
      "-R2 Score:0.9019\n",
      "Mean Squared Error:2463.2059\n",
      "       Actual Balance  Predicted Balance\n",
      "0               328.0         367.348823\n",
      "1               824.0         717.890243\n",
      "2               638.0         629.775859\n",
      "3               782.0         805.143354\n",
      "4               483.0         454.866244\n",
      "...               ...                ...\n",
      "17995           779.0         805.184938\n",
      "17996           325.0         367.428170\n",
      "17997           651.0         628.914409\n",
      "17998           694.0         630.581935\n",
      "17999           415.0         456.432417\n",
      "\n",
      "[18000 rows x 2 columns]\n",
      "===================================\n",
      "\n",
      "\n",
      "Lasso\n",
      "Model Performance on Trainig Data\n",
      "-Root Mean Squared Error:50.2176\n",
      "-Mean Absolute Error:39.4576\n",
      "-R2 Score:0.9001\n",
      "Mean Squared Error:2521.8095\n",
      "-----------------------------\n",
      "Model Performance on Testing Data\n",
      "-Root Mean Squared Error:49.6159\n",
      "-Mean Absolute Error:38.8743\n",
      "-R2 Score:0.9019\n",
      "Mean Squared Error:2461.7352\n",
      "       Actual Balance  Predicted Balance\n",
      "0               328.0         367.880420\n",
      "1               824.0         716.956764\n",
      "2               638.0         630.010577\n",
      "3               782.0         804.371381\n",
      "4               483.0         455.389465\n",
      "...               ...                ...\n",
      "17995           779.0         804.924186\n",
      "17996           325.0         368.408687\n",
      "17997           651.0         629.810593\n",
      "17998           694.0         630.276045\n",
      "17999           415.0         456.206643\n",
      "\n",
      "[18000 rows x 2 columns]\n",
      "===================================\n",
      "\n",
      "\n",
      "Ridge\n",
      "Model Performance on Trainig Data\n",
      "-Root Mean Squared Error:50.2097\n",
      "-Mean Absolute Error:39.4897\n",
      "-R2 Score:0.9001\n",
      "Mean Squared Error:2521.0162\n",
      "-----------------------------\n",
      "Model Performance on Testing Data\n",
      "-Root Mean Squared Error:49.6307\n",
      "-Mean Absolute Error:38.9186\n",
      "-R2 Score:0.9019\n",
      "Mean Squared Error:2463.2049\n",
      "       Actual Balance  Predicted Balance\n",
      "0               328.0         367.349792\n",
      "1               824.0         717.889556\n",
      "2               638.0         629.775602\n",
      "3               782.0         805.142269\n",
      "4               483.0         454.866800\n",
      "...               ...                ...\n",
      "17995           779.0         805.183872\n",
      "17996           325.0         367.429153\n",
      "17997           651.0         628.914174\n",
      "17998           694.0         630.581663\n",
      "17999           415.0         456.432958\n",
      "\n",
      "[18000 rows x 2 columns]\n",
      "===================================\n",
      "\n",
      "\n",
      "k-Neighbors\n",
      "Model Performance on Trainig Data\n",
      "-Root Mean Squared Error:138.2019\n",
      "-Mean Absolute Error:115.7455\n",
      "-R2 Score:0.2432\n",
      "Mean Squared Error:19099.7607\n",
      "-----------------------------\n",
      "Model Performance on Testing Data\n",
      "-Root Mean Squared Error:169.4455\n",
      "-Mean Absolute Error:142.4660\n",
      "-R2 Score:-0.1440\n",
      "Mean Squared Error:28711.7876\n",
      "       Actual Balance  Predicted Balance\n",
      "0               328.0              543.8\n",
      "1               824.0              674.2\n",
      "2               638.0              658.0\n",
      "3               782.0              635.8\n",
      "4               483.0              519.0\n",
      "...               ...                ...\n",
      "17995           779.0              597.4\n",
      "17996           325.0              517.0\n",
      "17997           651.0              672.6\n",
      "17998           694.0              625.2\n",
      "17999           415.0              625.0\n",
      "\n",
      "[18000 rows x 2 columns]\n",
      "===================================\n",
      "\n",
      "\n",
      "Decision Tree\n",
      "Model Performance on Trainig Data\n",
      "-Root Mean Squared Error:0.0000\n",
      "-Mean Absolute Error:0.0000\n",
      "-R2 Score:1.0000\n",
      "Mean Squared Error:0.0000\n",
      "-----------------------------\n",
      "Model Performance on Testing Data\n",
      "-Root Mean Squared Error:39.5081\n",
      "-Mean Absolute Error:31.9213\n",
      "-R2 Score:0.9378\n",
      "Mean Squared Error:1560.8886\n",
      "       Actual Balance  Predicted Balance\n",
      "0               328.0              377.0\n",
      "1               824.0              837.0\n",
      "2               638.0              677.0\n",
      "3               782.0              721.0\n",
      "4               483.0              492.0\n",
      "...               ...                ...\n",
      "17995           779.0              758.0\n",
      "17996           325.0              324.0\n",
      "17997           651.0              664.0\n",
      "17998           694.0              692.0\n",
      "17999           415.0              401.0\n",
      "\n",
      "[18000 rows x 2 columns]\n",
      "===================================\n",
      "\n",
      "\n",
      "Random Forest\n",
      "Model Performance on Trainig Data\n",
      "-Root Mean Squared Error:10.5860\n",
      "-Mean Absolute Error:8.9272\n",
      "-R2 Score:0.9956\n",
      "Mean Squared Error:112.0644\n",
      "-----------------------------\n",
      "Model Performance on Testing Data\n",
      "-Root Mean Squared Error:28.1124\n",
      "-Mean Absolute Error:23.9624\n",
      "-R2 Score:0.9685\n",
      "Mean Squared Error:790.3084\n",
      "       Actual Balance  Predicted Balance\n",
      "0               328.0             345.92\n",
      "1               824.0             829.13\n",
      "2               638.0             650.71\n",
      "3               782.0             749.98\n",
      "4               483.0             444.39\n",
      "...               ...                ...\n",
      "17995           779.0             751.02\n",
      "17996           325.0             340.95\n",
      "17997           651.0             658.33\n",
      "17998           694.0             652.08\n",
      "17999           415.0             453.18\n",
      "\n",
      "[18000 rows x 2 columns]\n",
      "===================================\n",
      "\n",
      "\n",
      "Adaboost Regressor\n",
      "Model Performance on Trainig Data\n",
      "-Root Mean Squared Error:27.9126\n",
      "-Mean Absolute Error:23.9128\n",
      "-R2 Score:0.9691\n",
      "Mean Squared Error:779.1151\n",
      "-----------------------------\n",
      "Model Performance on Testing Data\n",
      "-Root Mean Squared Error:27.7062\n",
      "-Mean Absolute Error:23.7413\n",
      "-R2 Score:0.9694\n",
      "Mean Squared Error:767.6349\n",
      "       Actual Balance  Predicted Balance\n",
      "0               328.0         349.802082\n",
      "1               824.0         824.399505\n",
      "2               638.0         649.014289\n",
      "3               782.0         749.860802\n",
      "4               483.0         449.409224\n",
      "...               ...                ...\n",
      "17995           779.0         749.860802\n",
      "17996           325.0         349.802082\n",
      "17997           651.0         649.014289\n",
      "17998           694.0         649.014289\n",
      "17999           415.0         449.409224\n",
      "\n",
      "[18000 rows x 2 columns]\n",
      "===================================\n",
      "\n",
      "\n"
     ]
    }
   ],
   "source": [
    "for i in range(len(list(models))):\n",
    "    model = list(models.values())[i]\n",
    "    model.fit(x_train,y_train)\n",
    "    y_pred_train = model.predict(x_train)\n",
    "    y_pred_test = model.predict(x_test)\n",
    "\n",
    "    mae_model_train,mse_model_train,r2score_model_train,rmse_model_train = evaluate_model(y_train,y_pred_train)\n",
    "    mae_model_test,mse_model_test,r2score_model_test,rmse_model_test = evaluate_model(y_test,y_pred_test)\n",
    "\n",
    "    print(list(models.keys())[i])\n",
    "    print('Model Performance on Trainig Data')\n",
    "    print('-Root Mean Squared Error:{:.4f}'.format(rmse_model_train))\n",
    "    print('-Mean Absolute Error:{:.4f}'.format(mae_model_train))\n",
    "    print('-R2 Score:{:.4f}'.format(r2score_model_train))\n",
    "    print('Mean Squared Error:{:.4f}'.format(mse_model_train))\n",
    "\n",
    "    print('-----------------------------')\n",
    "\n",
    "    print('Model Performance on Testing Data')\n",
    "    print('-Root Mean Squared Error:{:.4f}'.format(rmse_model_test))\n",
    "    print('-Mean Absolute Error:{:.4f}'.format(mae_model_test))\n",
    "    print('-R2 Score:{:.4f}'.format(r2score_model_test))\n",
    "    print('Mean Squared Error:{:.4f}'.format(mse_model_test))\n",
    "    cal = pd.DataFrame(np.c_[y_test,y_pred_test],columns=['Actual Balance','Predicted Balance'])\n",
    "    print(cal)\n",
    "\n",
    "    print('='*35)\n",
    "    print('\\n')"
   ]
  },
  {
   "cell_type": "code",
   "execution_count": 30,
   "metadata": {},
   "outputs": [],
   "source": [
    "knn_params = {'n_neighbors':[x for x in range(1,200)]}\n",
    "rf_params = {\"max_depth\":[5,8,15,20,25],\n",
    "             \"max_features\":[5,7,'sqrt',8],\n",
    "             \"min_samples_split\":[2,8,15,20],\n",
    "             \"n_estimators\":[100,200,500,1000]\n",
    "            }\n",
    "dt_params = {\"max_depth\":[5,8,15,20,25],\n",
    "            \"max_features\":[5,7,'sqrt',8],\n",
    "            \"min_samples_split\":[2,8,15,20],\n",
    "            \"min_samples_leaf\":[2,6,13,17,20]\n",
    "            }\n",
    "ada_params = {\n",
    "            \"n_estimators\":[50,60,70,80],\n",
    "            \"loss\":['linear','square','exponential']\n",
    "            }"
   ]
  },
  {
   "cell_type": "code",
   "execution_count": 31,
   "metadata": {},
   "outputs": [],
   "source": [
    "randomcv_models = [('KNN',KNeighborsRegressor(),knn_params),\n",
    "                   ('RF',RandomForestRegressor(),rf_params),\n",
    "                   ('DT',DecisionTreeRegressor(),dt_params),\n",
    "                   ('Adaboost',AdaBoostRegressor(),ada_params)\n",
    "                ]"
   ]
  },
  {
   "cell_type": "code",
   "execution_count": 32,
   "metadata": {},
   "outputs": [
    {
     "name": "stdout",
     "output_type": "stream",
     "text": [
      "Fitting 3 folds for each of 10 candidates, totalling 30 fits\n",
      "Fitting 3 folds for each of 10 candidates, totalling 30 fits\n"
     ]
    },
    {
     "name": "stderr",
     "output_type": "stream",
     "text": [
      "c:\\Python312\\Lib\\site-packages\\sklearn\\model_selection\\_validation.py:540: FitFailedWarning: \n",
      "3 fits failed out of a total of 30.\n",
      "The score on these train-test partitions for these parameters will be set to nan.\n",
      "If these failures are not expected, you can try to debug them by setting error_score='raise'.\n",
      "\n",
      "Below are more details about the failures:\n",
      "--------------------------------------------------------------------------------\n",
      "3 fits failed with the following error:\n",
      "Traceback (most recent call last):\n",
      "  File \"c:\\Python312\\Lib\\site-packages\\sklearn\\model_selection\\_validation.py\", line 888, in _fit_and_score\n",
      "    estimator.fit(X_train, y_train, **fit_params)\n",
      "  File \"c:\\Python312\\Lib\\site-packages\\sklearn\\base.py\", line 1473, in wrapper\n",
      "    return fit_method(estimator, *args, **kwargs)\n",
      "           ^^^^^^^^^^^^^^^^^^^^^^^^^^^^^^^^^^^^^^\n",
      "  File \"c:\\Python312\\Lib\\site-packages\\sklearn\\ensemble\\_forest.py\", line 489, in fit\n",
      "    trees = Parallel(\n",
      "            ^^^^^^^^^\n",
      "  File \"c:\\Python312\\Lib\\site-packages\\sklearn\\utils\\parallel.py\", line 67, in __call__\n",
      "    return super().__call__(iterable_with_config)\n",
      "           ^^^^^^^^^^^^^^^^^^^^^^^^^^^^^^^^^^^^^^\n",
      "  File \"c:\\Python312\\Lib\\site-packages\\joblib\\parallel.py\", line 1918, in __call__\n",
      "    return output if self.return_generator else list(output)\n",
      "                                                ^^^^^^^^^^^^\n",
      "  File \"c:\\Python312\\Lib\\site-packages\\joblib\\parallel.py\", line 1847, in _get_sequential_output\n",
      "    res = func(*args, **kwargs)\n",
      "          ^^^^^^^^^^^^^^^^^^^^^\n",
      "  File \"c:\\Python312\\Lib\\site-packages\\sklearn\\utils\\parallel.py\", line 129, in __call__\n",
      "    return self.function(*args, **kwargs)\n",
      "           ^^^^^^^^^^^^^^^^^^^^^^^^^^^^^^\n",
      "  File \"c:\\Python312\\Lib\\site-packages\\sklearn\\ensemble\\_forest.py\", line 192, in _parallel_build_trees\n",
      "    tree._fit(\n",
      "  File \"c:\\Python312\\Lib\\site-packages\\sklearn\\tree\\_classes.py\", line 472, in _fit\n",
      "    builder.build(self.tree_, X, y, sample_weight, missing_values_in_feature_mask)\n",
      "  File \"_tree.pyx\", line 172, in sklearn.tree._tree.DepthFirstTreeBuilder.build\n",
      "  File \"_tree.pyx\", line 287, in sklearn.tree._tree.DepthFirstTreeBuilder.build\n",
      "  File \"_tree.pyx\", line 942, in sklearn.tree._tree.Tree._add_node\n",
      "  File \"_tree.pyx\", line 910, in sklearn.tree._tree.Tree._resize_c\n",
      "  File \"_utils.pyx\", line 35, in sklearn.tree._utils.safe_realloc\n",
      "MemoryError: could not allocate 4194304 bytes\n",
      "\n",
      "  warnings.warn(some_fits_failed_message, FitFailedWarning)\n",
      "c:\\Python312\\Lib\\site-packages\\sklearn\\model_selection\\_search.py:1052: UserWarning: One or more of the test scores are non-finite: [0.90774924 0.86920072 0.96357087 0.96722048 0.96809635 0.96872754\n",
      "        nan 0.96843715 0.93091691 0.96483496]\n",
      "  warnings.warn(\n"
     ]
    },
    {
     "name": "stdout",
     "output_type": "stream",
     "text": [
      "Fitting 3 folds for each of 10 candidates, totalling 30 fits\n",
      "Fitting 3 folds for each of 10 candidates, totalling 30 fits\n",
      "-------------Best parmas for KNN-------------\n",
      "{'n_neighbors': 198}\n",
      "-------------Best parmas for RF-------------\n",
      "{'n_estimators': 100, 'min_samples_split': 2, 'max_features': 7, 'max_depth': 15}\n",
      "-------------Best parmas for DT-------------\n",
      "{'min_samples_split': 8, 'min_samples_leaf': 20, 'max_features': 8, 'max_depth': 25}\n",
      "-------------Best parmas for Adaboost-------------\n",
      "{'n_estimators': 60, 'loss': 'square'}\n"
     ]
    }
   ],
   "source": [
    "from sklearn.model_selection import RandomizedSearchCV\n",
    "model_params = {}\n",
    "for name,model,param in randomcv_models:\n",
    "    random = RandomizedSearchCV(estimator=model,param_distributions=param,verbose=2,cv=3,n_jobs=2,n_iter=10)\n",
    "    random.fit(x_train,y_train)\n",
    "    model_params[name] = random.best_params_\n",
    "for model_name in model_params:\n",
    "    print(f\"-------------Best parmas for {model_name}-------------\")\n",
    "    print(model_params[model_name])"
   ]
  },
  {
   "cell_type": "code",
   "execution_count": 33,
   "metadata": {},
   "outputs": [],
   "source": [
    "models = {\n",
    "    \"k-Neighbors\":KNeighborsRegressor(n_neighbors=198),\n",
    "    \"Random Forest Regressor\": RandomForestRegressor(n_estimators=100,min_samples_split=2,max_depth=7,max_features=15),\n",
    "    \"Decsion Tree Regressor\":DecisionTreeRegressor(min_samples_split=8,min_samples_leaf=20,max_features=8,max_depth=25),\n",
    "    \"Adaboost Regressor\": AdaBoostRegressor(n_estimators=60,loss='square')\n",
    "}"
   ]
  },
  {
   "cell_type": "code",
   "execution_count": 34,
   "metadata": {},
   "outputs": [
    {
     "name": "stdout",
     "output_type": "stream",
     "text": [
      "k-Neighbors\n",
      "Model Performance on Trainig Data\n",
      "-Root Mean Squared Error:157.9463\n",
      "-Mean Absolute Error:136.7033\n",
      "-R2 Score:0.0115\n",
      "Mean Squared Error:24947.0394\n",
      "-----------------------------\n",
      "Model Performance on Testing Data\n",
      "-Root Mean Squared Error:158.2492\n",
      "-Mean Absolute Error:136.8712\n",
      "-R2 Score:0.0022\n",
      "Mean Squared Error:25042.8063\n",
      "       Actual Balance  Predicted Balance\n",
      "0               328.0         567.585859\n",
      "1               824.0         571.232323\n",
      "2               638.0         574.585859\n",
      "3               782.0         577.085859\n",
      "4               483.0         564.742424\n",
      "...               ...                ...\n",
      "17995           779.0         580.015152\n",
      "17996           325.0         575.111111\n",
      "17997           651.0         575.292929\n",
      "17998           694.0         568.237374\n",
      "17999           415.0         573.338384\n",
      "\n",
      "[18000 rows x 2 columns]\n",
      "===================================\n",
      "\n",
      "\n",
      "Random Forest Regressor\n",
      "Model Performance on Trainig Data\n",
      "-Root Mean Squared Error:27.6817\n",
      "-Mean Absolute Error:23.7086\n",
      "-R2 Score:0.9696\n",
      "Mean Squared Error:766.2751\n",
      "-----------------------------\n",
      "Model Performance on Testing Data\n",
      "-Root Mean Squared Error:27.7263\n",
      "-Mean Absolute Error:23.7519\n",
      "-R2 Score:0.9694\n",
      "Mean Squared Error:768.7454\n",
      "       Actual Balance  Predicted Balance\n",
      "0               328.0         348.888764\n",
      "1               824.0         824.445611\n",
      "2               638.0         648.779216\n",
      "3               782.0         749.507275\n",
      "4               483.0         449.831765\n",
      "...               ...                ...\n",
      "17995           779.0         750.133866\n",
      "17996           325.0         348.487441\n",
      "17997           651.0         650.710641\n",
      "17998           694.0         648.794493\n",
      "17999           415.0         449.925951\n",
      "\n",
      "[18000 rows x 2 columns]\n",
      "===================================\n",
      "\n",
      "\n",
      "Decsion Tree Regressor\n",
      "Model Performance on Trainig Data\n",
      "-Root Mean Squared Error:25.9744\n",
      "-Mean Absolute Error:21.6050\n",
      "-R2 Score:0.9733\n",
      "Mean Squared Error:674.6678\n",
      "-----------------------------\n",
      "Model Performance on Testing Data\n",
      "-Root Mean Squared Error:30.2177\n",
      "-Mean Absolute Error:25.1941\n",
      "-R2 Score:0.9636\n",
      "Mean Squared Error:913.1065\n",
      "       Actual Balance  Predicted Balance\n",
      "0               328.0         354.250000\n",
      "1               824.0         832.727273\n",
      "2               638.0         654.680000\n",
      "3               782.0         753.185185\n",
      "4               483.0         454.187500\n",
      "...               ...                ...\n",
      "17995           779.0         757.029412\n",
      "17996           325.0         347.884615\n",
      "17997           651.0         664.238095\n",
      "17998           694.0         664.120000\n",
      "17999           415.0         469.617647\n",
      "\n",
      "[18000 rows x 2 columns]\n",
      "===================================\n",
      "\n",
      "\n",
      "Adaboost Regressor\n",
      "Model Performance on Trainig Data\n",
      "-Root Mean Squared Error:27.9124\n",
      "-Mean Absolute Error:23.9144\n",
      "-R2 Score:0.9691\n",
      "Mean Squared Error:779.1019\n",
      "-----------------------------\n",
      "Model Performance on Testing Data\n",
      "-Root Mean Squared Error:27.7033\n",
      "-Mean Absolute Error:23.7401\n",
      "-R2 Score:0.9694\n",
      "Mean Squared Error:767.4710\n",
      "       Actual Balance  Predicted Balance\n",
      "0               328.0         349.724405\n",
      "1               824.0         824.547700\n",
      "2               638.0         648.990901\n",
      "3               782.0         749.587116\n",
      "4               483.0         449.193022\n",
      "...               ...                ...\n",
      "17995           779.0         749.587116\n",
      "17996           325.0         349.724405\n",
      "17997           651.0         648.990901\n",
      "17998           694.0         649.349831\n",
      "17999           415.0         449.193022\n",
      "\n",
      "[18000 rows x 2 columns]\n",
      "===================================\n",
      "\n",
      "\n"
     ]
    }
   ],
   "source": [
    "for i in range(len(list(models))):\n",
    "    model = list(models.values())[i]\n",
    "    model.fit(x_train,y_train)\n",
    "\n",
    "    y_pred_train = model.predict(x_train)\n",
    "    y_pred_test = model.predict(x_test)\n",
    "\n",
    "    mae_model_train,mse_model_train,r2score_model_train,rmse_model_train = evaluate_model(y_train,y_pred_train)\n",
    "    mae_model_test,mse_model_test,r2score_model_test,rmse_model_test = evaluate_model(y_test,y_pred_test)\n",
    "\n",
    "    print(list(models.keys())[i])\n",
    "    print('Model Performance on Trainig Data')\n",
    "    print('-Root Mean Squared Error:{:.4f}'.format(rmse_model_train))\n",
    "    print('-Mean Absolute Error:{:.4f}'.format(mae_model_train))\n",
    "    print('-R2 Score:{:.4f}'.format(r2score_model_train))\n",
    "    print('Mean Squared Error:{:.4f}'.format(mse_model_train))\n",
    "\n",
    "    print('-----------------------------')\n",
    "\n",
    "    print('Model Performance on Testing Data')\n",
    "    print('-Root Mean Squared Error:{:.4f}'.format(rmse_model_test))\n",
    "    print('-Mean Absolute Error:{:.4f}'.format(mae_model_test))\n",
    "    print('-R2 Score:{:.4f}'.format(r2score_model_test))\n",
    "    print('Mean Squared Error:{:.4f}'.format(mse_model_test))\n",
    "    cal = pd.DataFrame(np.c_[y_test,y_pred_test],columns=['Actual Balance','Predicted Balance'])\n",
    "    print(cal)\n",
    "\n",
    "    print('='*35)\n",
    "    print('\\n')"
   ]
  },
  {
   "cell_type": "code",
   "execution_count": 35,
   "metadata": {},
   "outputs": [
    {
     "data": {
      "text/plain": [
       "['student_performance_model.pkl']"
      ]
     },
     "execution_count": 35,
     "metadata": {},
     "output_type": "execute_result"
    }
   ],
   "source": [
    "import joblib\n",
    "from sklearn.ensemble import RandomForestRegressor\n",
    "best_model = RandomForestRegressor(n_estimators=100,min_samples_split=2,max_depth=7,max_features=15)\n",
    "best_model.fit(x_train, y_train)\n",
    "\n",
    "joblib.dump(best_model, 'student_performance_model.pkl')\n",
    "\n"
   ]
  },
  {
   "cell_type": "code",
   "execution_count": 36,
   "metadata": {},
   "outputs": [
    {
     "name": "stdout",
     "output_type": "stream",
     "text": [
      "(72000, 17)\n",
      "Index(['Region', 'Gender', 'Enrollment_Type', 'Subject_Group', 'SSC_I_Marks',\n",
      "       'SSC_II_Marks', 'HSSC_I_Marks', 'Attendance_Rate',\n",
      "       'Parent_Education_Level', 'Parent_Income', 'Study_Hours',\n",
      "       'Extra_Tuition', 'School_Type', 'Previous_Failures',\n",
      "       'Co_Curricular_Activities', 'Exam_Attempts', 'HSSC_II_Grade'],\n",
      "      dtype='object')\n"
     ]
    }
   ],
   "source": [
    "print(x_train.shape)  # This will show (rows, features)\n",
    "print(x_train.columns)  # This will list all feature names\n"
   ]
  },
  {
   "cell_type": "code",
   "execution_count": null,
   "metadata": {},
   "outputs": [],
   "source": []
  },
  {
   "cell_type": "code",
   "execution_count": null,
   "metadata": {},
   "outputs": [],
   "source": []
  },
  {
   "cell_type": "code",
   "execution_count": null,
   "metadata": {},
   "outputs": [],
   "source": []
  },
  {
   "cell_type": "code",
   "execution_count": null,
   "metadata": {},
   "outputs": [],
   "source": []
  },
  {
   "cell_type": "code",
   "execution_count": null,
   "metadata": {},
   "outputs": [],
   "source": []
  },
  {
   "cell_type": "code",
   "execution_count": null,
   "metadata": {},
   "outputs": [],
   "source": []
  }
 ],
 "metadata": {
  "kernelspec": {
   "display_name": "Python 3",
   "language": "python",
   "name": "python3"
  },
  "language_info": {
   "codemirror_mode": {
    "name": "ipython",
    "version": 3
   },
   "file_extension": ".py",
   "mimetype": "text/x-python",
   "name": "python",
   "nbconvert_exporter": "python",
   "pygments_lexer": "ipython3",
   "version": "3.12.3"
  }
 },
 "nbformat": 4,
 "nbformat_minor": 2
}
